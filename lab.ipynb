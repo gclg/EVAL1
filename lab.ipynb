{
 "cells": [
  {
   "cell_type": "code",
   "execution_count": null,
   "metadata": {},
   "outputs": [
    {
     "name": "stdout",
     "output_type": "stream",
     "text": [
      "enter student details\n"
     ]
    }
   ],
   "source": [
    "class student:\n",
    "    def __int__(self):\n",
    "        self.stu={}\n",
    "    def add_student(self,name,classe,height,weight,psport,grade):\n",
    "        self.stu={\"name\":name,\"class\":classe,\"height\":height,\"weight\":weight,\"psport\":{\"own\":psport,\"rec\":[]},\"abilities\":None,\"grade\":grade}\n",
    "    def add_abilities(self,solving,agility,speed,strength):\n",
    "        self.stu[\"abilities\"]={\"prb_solving\":solving,\"agility\":agility,\"speed\":speed,\"strength\":strength}\n",
    "    def app_sport(self):\n",
    "        if(self.stu[\"abilities\"][\"prb_solving\"]>80):\n",
    "            print(\"chess\")\n",
    "            self.stu[\"psport\"][\"rec\"].append(\"chess\")\n",
    "            if(self.stu[\"abilities\"][\"agility\"]>50 and self.stu[\"abilities\"][\"speed\"]>70):\n",
    "                print(\"football\")\n",
    "                self.stu[\"psport\"][\"rec\"].append(\"football\")\n",
    "        if(self.stu[\"abilities\"][\"strength\"]>70 and self.stu[\"abilities\"][\"speed\"]>50):\n",
    "            print(\"cricket\")\n",
    "            self.stu[\"psport\"][\"rec\"].append(\"cricket\")\n",
    "        if(self.stu[\"abilities\"][\"strength\"]>80 and self.stu[\"abilities\"][\"speed\"]>70):\n",
    "            print(\"javelin throw\")\n",
    "            self.stu[\"psport\"][\"rec\"].append(\"javelin\")\n",
    "            \n",
    "    def diet_rec(self):\n",
    "        if(self.stu[\"height\"]<80 or self.stu[\"weight\"]<80):\n",
    "            print(\"eat food rich in calcium and protein\")\n",
    "        if(self.stu[\"weight\"]<100):\n",
    "            print(\"eat food low in carbs and control calories.\\n consume balance diet\")\n",
    "        if(\"football\" in self.stu[\"psport\"][\"rec\"]):\n",
    "            print(\"always consume electrolytes and eat protein\")\n",
    "        if(\"chess\" in self.stu[\"psport\"][\"rec\"]):\n",
    "            print(\"eat food nutritious in vitamins and low carbs\")\n",
    "            \n",
    "\n",
    "s=student()\n",
    "print(\"enter student details\")\n",
    "name=input(\"enter name: \")\n",
    "classe=int(input(\"enter class: \"))\n",
    "height=int(input(\"enter height: \"))\n",
    "weight=int(input(\"enter weight: \"))\n",
    "# s.add_student(class)\n",
    "z=[] \n",
    "i=1\n",
    "while i:\n",
    "    x=input(\"enter sport\")\n",
    "    z.append(x)\n",
    "    i=int(input(\"enter 1 to continue and 0 to end\"))\n",
    "grade=int(input(\"enter grade: \"))\n",
    "s.add_student(name,classe,height,weight,z,grade)\n",
    "solving=int(input(\"enter solving: \"))\n",
    "agility=int(input(\"enter AGI: \"))\n",
    "speed=int(input(\"enter spee: \"))\n",
    "strength=int(input(\"enter stren: \"))\n",
    "s.add_abilities(solving,agility,speed,strength)\n",
    "s.app_sport()\n",
    "s.diet_rec()\n"
   ]
  },
  {
   "cell_type": "code",
   "execution_count": null,
   "metadata": {},
   "outputs": [],
   "source": []
  },
  {
   "cell_type": "code",
   "execution_count": null,
   "metadata": {},
   "outputs": [],
   "source": []
  },
  {
   "cell_type": "code",
   "execution_count": null,
   "metadata": {},
   "outputs": [],
   "source": []
  },
  {
   "cell_type": "code",
   "execution_count": null,
   "metadata": {},
   "outputs": [],
   "source": []
  }
 ],
 "metadata": {
  "kernelspec": {
   "display_name": "Python 3",
   "language": "python",
   "name": "python3"
  },
  "language_info": {
   "codemirror_mode": {
    "name": "ipython",
    "version": 3
   },
   "file_extension": ".py",
   "mimetype": "text/x-python",
   "name": "python",
   "nbconvert_exporter": "python",
   "pygments_lexer": "ipython3",
   "version": "3.7.3"
  }
 },
 "nbformat": 4,
 "nbformat_minor": 2
}
